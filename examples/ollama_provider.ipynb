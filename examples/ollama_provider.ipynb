{
 "cells": [
  {
   "cell_type": "code",
   "execution_count": 4,
   "metadata": {},
   "outputs": [
    {
     "name": "stdout",
     "output_type": "stream",
     "text": [
      "The sky is blue due to a phenomenon called **Rayleigh scattering**. Here's a breakdown of why it happens:\n",
      "\n",
      "* **Sunlight is made of all colors:** White sunlight is actually a mixture of all the colors of the rainbow.\n",
      "\n",
      "* **Sunlight enters the Earth's atmosphere:** As sunlight travels through the Earth's atmosphere, it bumps into tiny air molecules (mostly nitrogen and oxygen).\n",
      "\n",
      "* **Blue light scatters more:**  Rayleigh scattering is the scattering of light by particles of a much smaller wavelength. Blue and violet light have shorter wavelengths than other colors like red and orange.  Because blue light is scattered more effectively by these tiny air molecules, it spreads out across the sky.\n",
      "\n",
      "* **We see the scattered blue light:** When we look up, we see this scattered blue light coming from all directions. That's why the sky appears blue!\n",
      "\n",
      "**Think of it like this:** Imagine throwing a handful of small marbles (blue light) and a handful of larger marbles (red light) at a bumpy surface. The small marbles are more likely to bounce off in different directions, while the larger marbles tend to travel in a straight line.\n",
      "\n",
      "**Why not violet then?** Violet light is scattered even *more* than blue light. However, the sun emits less violet light than blue light, and our eyes are also less sensitive to violet.  Therefore, we perceive the sky as blue.\n",
      "\n",
      "**Bonus:**  At sunrise and sunset, the sunlight has to travel through more of the atmosphere. This longer path scatters away most of the blue light, leaving the longer wavelengths like red and orange to dominate, creating those beautiful colors.\n",
      "\n",
      "---\n",
      "\n",
      "**Resources for more information:**\n",
      "\n",
      "* **NASA - Rayleigh Scattering:** [https://science.nasa.gov/news/2014/121113/00001777/ray-leigh-scattering-explains-why-the-sky-is-blue/](https://science.nasa.gov/news/2014/201213/00001777/ray-leigh-scattering-explains-why-the-sky-is-blue/)\n",
      "* **National Geographic - Why is the Sky Blue?:** [https://www.nationalgeographic.com/science/2018/03/why-is-the-sky-blue/](https://www.nationalgeographic.com/science/2018/03/why-is-the-sky-blue/)\n",
      "\n",
      "Do you have any other questions about the sky or light?\n"
     ]
    }
   ],
   "source": [
    "import requests\n",
    "\n",
    "url = 'http://localhost:11434/api/generate'\n",
    "payload = {\n",
    "    \"model\": \"gemma3:1b\",\n",
    "    \"prompt\": \"Why is the sky blue?\",\n",
    "    \"stream\": False\n",
    "}\n",
    "\n",
    "response = requests.post(url, json=payload)\n",
    "print(response.json()['response'])"
   ]
  }
 ],
 "metadata": {
  "kernelspec": {
   "display_name": "llm_env",
   "language": "python",
   "name": "python3"
  },
  "language_info": {
   "codemirror_mode": {
    "name": "ipython",
    "version": 3
   },
   "file_extension": ".py",
   "mimetype": "text/x-python",
   "name": "python",
   "nbconvert_exporter": "python",
   "pygments_lexer": "ipython3",
   "version": "3.13.2"
  }
 },
 "nbformat": 4,
 "nbformat_minor": 2
}
