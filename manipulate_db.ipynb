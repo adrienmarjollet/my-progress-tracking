{
 "cells": [
  {
   "cell_type": "code",
   "execution_count": 1,
   "metadata": {},
   "outputs": [],
   "source": [
    "import sqlite3\n",
    "import pandas as pd\n",
    "import os\n",
    "\n",
    "\n",
    "\"\"\"\n",
    "Load a SQLite database, add new columns, and populate them with values \n",
    "derived from existing columns.\n",
    "\n",
    "Parameters:\n",
    "- db_path (str): Path to the SQLite database file\n",
    "- table_name (str): Name of the table to manipulate\n",
    "\"\"\"\n",
    "\n",
    "CURR_DIR = os.getcwd()\n",
    "\n",
    "db_name = \"questions.db\"\n",
    "\n",
    "db_path = os.path.join(CURR_DIR, db_name)\n",
    "\n",
    "# Check if database exists\n",
    "if not os.path.exists(db_path):\n",
    "    print(f\"Database file {db_path} not found!\")\n",
    "\n",
    "# Connect to the database\n",
    "conn = sqlite3.connect(db_path)\n",
    "cursor = conn.cursor()"
   ]
  },
  {
   "cell_type": "code",
   "execution_count": 2,
   "metadata": {},
   "outputs": [
    {
     "name": "stdout",
     "output_type": "stream",
     "text": [
      "Existing columns: ['id', 'question', 'timestamp', 'theme', 'provider', 'model', 'subtheme', 'is_error', 'difficulty', 'is_error_msg', 'helpful']\n"
     ]
    }
   ],
   "source": [
    "table_name = \"questions\"\n",
    "    \n",
    "# Get existing columns\n",
    "cursor.execute(f\"PRAGMA table_info({table_name})\")\n",
    "existing_columns = [col[1] for col in cursor.fetchall()]\n",
    "\n",
    "print(f\"Existing columns: {existing_columns}\")\n"
   ]
  },
  {
   "cell_type": "code",
   "execution_count": 3,
   "metadata": {},
   "outputs": [
    {
     "name": "stdout",
     "output_type": "stream",
     "text": [
      "Adding column embedding of type TEXT\n",
      "Updated embedding for question ID 20\n",
      "Updated embedding for question ID 21\n",
      "Updated embedding for question ID 22\n",
      "Updated embedding for question ID 23\n",
      "Updated embedding for question ID 24\n",
      "Updated embedding for question ID 25\n",
      "Updated embedding for question ID 26\n",
      "Updated embedding for question ID 27\n",
      "Updated embedding for question ID 28\n",
      "Updated embedding for question ID 29\n",
      "Updated embedding for question ID 30\n",
      "Updated embedding for question ID 31\n",
      "Updated embedding for question ID 32\n",
      "Updated embedding for question ID 33\n",
      "Updated embedding for question ID 34\n",
      "Updated embedding for question ID 35\n",
      "Updated embedding for question ID 36\n",
      "Updated embedding for question ID 37\n",
      "Updated embedding for question ID 38\n",
      "Updated embedding for question ID 39\n",
      "Updated embedding for question ID 40\n",
      "Updated embedding for question ID 41\n",
      "Updated embedding for question ID 42\n",
      "Updated embedding for question ID 43\n",
      "Updated embedding for question ID 44\n",
      "Updated embedding for question ID 45\n",
      "Updated embedding for question ID 46\n",
      "Updated embedding for question ID 47\n",
      "Updated embedding for question ID 48\n",
      "Updated embedding for question ID 49\n",
      "Updated embedding for question ID 50\n",
      "Updated embedding for question ID 51\n",
      "Updated embedding for question ID 52\n",
      "Updated embedding for question ID 53\n",
      "Updated embedding for question ID 54\n",
      "Updated embedding for question ID 55\n",
      "Updated embedding for question ID 56\n",
      "Updated embedding for question ID 57\n",
      "Updated embedding for question ID 58\n",
      "Updated embedding for question ID 59\n",
      "Updated embedding for question ID 60\n",
      "Database updated successfully\n"
     ]
    }
   ],
   "source": [
    "from utils.embedding_models import get_embedding\n",
    "# Add new columns if they don't exist\n",
    "new_columns = {\n",
    "    \"embedding\": \"TEXT\"  # Store embeddings as text (JSON or string representation)\n",
    "}\n",
    "\n",
    "# Add columns if they don't exist\n",
    "for col_name, col_type in new_columns.items():\n",
    "    if col_name not in existing_columns:\n",
    "        print(f\"Adding column {col_name} of type {col_type}\")\n",
    "        cursor.execute(f\"ALTER TABLE {table_name} ADD COLUMN {col_name} {col_type}\")\n",
    "    else:\n",
    "        print(f\"Column {col_name} already exists\")\n",
    "\n",
    "# Get all questions\n",
    "cursor.execute(f\"SELECT rowid, question FROM {table_name}\")\n",
    "rows = cursor.fetchall()\n",
    "\n",
    "# Update embeddings for each question\n",
    "for row_id, question in rows:\n",
    "    if question:\n",
    "        # Generate embedding for the question\n",
    "        embedding = get_embedding(question)\n",
    "        \n",
    "        # Convert embedding to string format for storage\n",
    "        embedding_str = str(embedding)\n",
    "        \n",
    "        # Update the row with the new embedding\n",
    "        cursor.execute(f\"UPDATE {table_name} SET embedding = ? WHERE rowid = ?\", \n",
    "                      (embedding_str, row_id))\n",
    "        \n",
    "        print(f\"Updated embedding for question ID {row_id}\")\n",
    "    else:\n",
    "        print(f\"Skipping question ID {row_id} (empty question)\")\n",
    "\n",
    "# Commit changes and close connection\n",
    "conn.commit()\n",
    "print(\"Database updated successfully\")"
   ]
  }
 ],
 "metadata": {
  "kernelspec": {
   "display_name": "llm_env",
   "language": "python",
   "name": "python3"
  },
  "language_info": {
   "codemirror_mode": {
    "name": "ipython",
    "version": 3
   },
   "file_extension": ".py",
   "mimetype": "text/x-python",
   "name": "python",
   "nbconvert_exporter": "python",
   "pygments_lexer": "ipython3",
   "version": "3.13.2"
  }
 },
 "nbformat": 4,
 "nbformat_minor": 2
}
